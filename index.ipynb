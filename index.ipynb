{
 "cells": [
  {
   "cell_type": "code",
   "execution_count": 18,
   "metadata": {},
   "outputs": [],
   "source": [
    "import pandas as pd \n",
    "import numpy as np"
   ]
  },
  {
   "cell_type": "markdown",
   "metadata": {},
   "source": [
    "After reading 'facebook_dataset.cvs', I noticed that the fields are delimited by using ','. So I parsed line by line through the dataset, separated the values and putting them in an array."
   ]
  },
  {
   "cell_type": "code",
   "execution_count": null,
   "metadata": {},
   "outputs": [],
   "source": [
    "rows = []\n",
    "\n",
    "with open('facebook_dataset.csv', mode='r', encoding='utf-8') as file:\n",
    "    for line in file:\n",
    "        fields = line.strip().split(',')\n",
    "        rows.append(fields)\n",
    "'''\n",
    "for row in rows:\n",
    "    print(row)\n",
    "'''"
   ]
  },
  {
   "cell_type": "markdown",
   "metadata": {},
   "source": [
    "As for 'google_dataset.cvs', it has the same delimiter, so I parsed the same way as the previous dataset."
   ]
  },
  {
   "cell_type": "code",
   "execution_count": null,
   "metadata": {},
   "outputs": [],
   "source": [
    "rows = []\n",
    "\n",
    "with open('google_dataset.csv', mode='r', encoding='utf-8') as file:\n",
    "    for line in file:\n",
    "        fields = line.strip().split(',')\n",
    "        rows.append(fields)\n",
    "'''\n",
    "for row in rows:\n",
    "    print(row)\n",
    "'''"
   ]
  },
  {
   "cell_type": "markdown",
   "metadata": {},
   "source": [
    "Finally, for 'website_dataset.cvs', the delimiter is ';'. The separating by fields is the same, only changing the delimiter."
   ]
  },
  {
   "cell_type": "code",
   "execution_count": null,
   "metadata": {},
   "outputs": [],
   "source": [
    "rows = []\n",
    "\n",
    "with open('website_dataset.csv', mode='r', encoding='utf-8') as file:\n",
    "    for line in file:\n",
    "        fields = line.strip().split(';')\n",
    "        rows.append(fields)\n",
    "'''\n",
    "for row in rows:\n",
    "    print(row)\n",
    "'''"
   ]
  }
 ],
 "metadata": {
  "kernelspec": {
   "display_name": "Python 3",
   "language": "python",
   "name": "python3"
  },
  "language_info": {
   "codemirror_mode": {
    "name": "ipython",
    "version": 3
   },
   "file_extension": ".py",
   "mimetype": "text/x-python",
   "name": "python",
   "nbconvert_exporter": "python",
   "pygments_lexer": "ipython3",
   "version": "3.12.0"
  }
 },
 "nbformat": 4,
 "nbformat_minor": 2
}
